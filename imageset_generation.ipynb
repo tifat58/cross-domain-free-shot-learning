{
 "cells": [
  {
   "cell_type": "code",
   "execution_count": 1,
   "metadata": {},
   "outputs": [],
   "source": [
    "from __future__ import print_function, division\n",
    "\n",
    "import torch\n",
    "import torch.nn as nn\n",
    "import torch.optim as optim\n",
    "from torch.optim import lr_scheduler\n",
    "import numpy as np\n",
    "import torchvision\n",
    "from torchvision import datasets, models, transforms\n",
    "from torch.utils.data import Subset, Dataset, DataLoader\n",
    "import matplotlib.pyplot as plt\n",
    "import time\n",
    "import os\n",
    "import copy\n",
    "import pandas as pd\n",
    "\n",
    "plt.ion()   # interactive mode\n",
    "device = torch.device(\"cuda:0\" if torch.cuda.is_available() else \"cpu\")"
   ]
  },
  {
   "cell_type": "code",
   "execution_count": 3,
   "metadata": {},
   "outputs": [],
   "source": [
    "class Net(nn.Module):\n",
    "    def __init__(self):\n",
    "        super(Net, self).__init__()\n",
    "        self.fc1 = nn.Linear(10, 5)\n",
    "        \n",
    "    def forward(self, x):\n",
    "        x = self.fc1(x)\n",
    "        return x"
   ]
  },
  {
   "cell_type": "code",
   "execution_count": 76,
   "metadata": {},
   "outputs": [],
   "source": [
    "\"\"\" LeNet architecture implementation\n",
    "\"\"\"\n",
    "from torch import nn, optim\n",
    "from torch.autograd import Variable\n",
    "import torch.nn.functional as F\n",
    "\n",
    "class LeNet(nn.Module):\n",
    "    def __init__(self):\n",
    "        super(LeNet, self).__init__()\n",
    "        self.conv1 = nn.Conv2d(1, 6, (5,5), padding=2)\n",
    "        self.conv2 = nn.Conv2d(6, 16, (5,5))\n",
    "        self.fc1   = nn.Linear(16*5*5, 120)\n",
    "        self.fc2   = nn.Linear(120, 84)\n",
    "        self.fc3   = nn.Linear(84, 5)\n",
    "        \n",
    "    def forward(self, x):\n",
    "        x = F.relu(self.conv1(x))\n",
    "        x = F.max_pool2d(x, (2,2))\n",
    "#         x = F.max_pool2d(F.relu(self.conv1(x)), (2,2))\n",
    "        x = F.max_pool2d(F.relu(self.conv2(x)), (2,2))\n",
    "        x = x.view(-1, self.num_flat_features(x))\n",
    "        x = F.relu(self.fc1(x))\n",
    "        x = F.relu(self.fc2(x))\n",
    "        x = self.fc3(x)\n",
    "        return x\n",
    "    \n",
    "    def num_flat_features(self, x):\n",
    "        size = x.size()[1:]\n",
    "        num_features = 1\n",
    "        for s in size:\n",
    "            num_features *= s\n",
    "        return num_features\n"
   ]
  },
  {
   "cell_type": "code",
   "execution_count": 77,
   "metadata": {},
   "outputs": [
    {
     "name": "stdout",
     "output_type": "stream",
     "text": [
      "tensor([[0, 0, 0, 1, 0]])\n"
     ]
    }
   ],
   "source": [
    "p = torch.tensor([[0, 0, 0, 1, 0]])\n",
    "p_target =  p / p.sum()\n",
    "print(p_target)"
   ]
  },
  {
   "cell_type": "code",
   "execution_count": 84,
   "metadata": {},
   "outputs": [],
   "source": [
    "x = torch.randn((1, 1, 28, 28), requires_grad=True)\n"
   ]
  },
  {
   "cell_type": "code",
   "execution_count": 85,
   "metadata": {},
   "outputs": [
    {
     "name": "stdout",
     "output_type": "stream",
     "text": [
      "loss 4.719367980957031\n",
      "loss 4.386998261907138e-05\n",
      "loss 2.741851312748622e-05\n",
      "loss 2.5391900635440834e-05\n",
      "loss 2.47958396357717e-05\n",
      "loss 2.4438202672172338e-05\n",
      "loss 2.396135460003279e-05\n",
      "loss 2.3484506527893245e-05\n",
      "loss 2.30076584557537e-05\n",
      "loss 2.2530810383614153e-05\n",
      "loss 2.2053962311474606e-05\n",
      "loss 2.157711423933506e-05\n",
      "loss 2.1100266167195514e-05\n",
      "loss 2.062341991404537e-05\n",
      "loss 2.014657366089523e-05\n",
      "loss 1.9669725588755682e-05\n",
      "loss 1.919287933560554e-05\n",
      "loss 1.8835246009984985e-05\n",
      "loss 1.8358399756834842e-05\n",
      "loss 1.78815535036847e-05\n",
      "loss 1.7404707250534557e-05\n",
      "loss 1.7047073924914002e-05\n",
      "loss 1.657022767176386e-05\n",
      "loss 1.6212594346143305e-05\n",
      "loss 1.585496102052275e-05\n",
      "loss 1.5378116586362012e-05\n",
      "loss 1.5020483260741457e-05\n",
      "loss 1.4662849935120903e-05\n",
      "loss 1.430521751899505e-05\n",
      "loss 1.3947584193374496e-05\n"
     ]
    }
   ],
   "source": [
    "\n",
    "criterion = nn.CrossEntropyLoss()#\n",
    "optimizer = optim.Adam([x], lr=0.05)\n",
    "\n",
    "\n",
    "for t in range(1):\n",
    "#     model = LeNet()\n",
    "    model = torch.load('LeNet_5_class_pretrained_model.tar')\n",
    "    model.eval()\n",
    "    for i in range(600):\n",
    "        optimizer.zero_grad()\n",
    "        image = torch.tanh(x)\n",
    "        logits = model(image)#\n",
    "        prob = torch.softmax(logits, -1)\n",
    "        #  loss = criterion(prob, p_traget)\n",
    "        loss = p_target * prob.log()\n",
    "        loss = - loss.sum(-1).mean()\n",
    "        loss.backward()\n",
    "        optimizer.step()\n",
    "        if i % 20 == 0:\n",
    "            print('loss', loss.item())\n",
    "\n"
   ]
  },
  {
   "cell_type": "code",
   "execution_count": 87,
   "metadata": {},
   "outputs": [],
   "source": [
    "y = torch.tanh(x)"
   ]
  },
  {
   "cell_type": "code",
   "execution_count": 88,
   "metadata": {},
   "outputs": [
    {
     "data": {
      "text/plain": [
       "<matplotlib.image.AxesImage at 0x22586c35220>"
      ]
     },
     "execution_count": 88,
     "metadata": {},
     "output_type": "execute_result"
    },
    {
     "data": {
      "image/png": "[encoded data removed]",
      "text/plain": [
       "<Figure size 432x288 with 1 Axes>"
      ]
     },
     "metadata": {
      "needs_background": "light"
     },
     "output_type": "display_data"
    }
   ],
   "source": [
    "y = y.detach().numpy()\n",
    "z = y[0,0,:,:]\n",
    "plt.imshow(z, cmap='Greys', interpolation='nearest')\n"
   ]
  },
  {
   "cell_type": "code",
   "execution_count": null,
   "metadata": {},
   "outputs": [],
   "source": []
  }
 ],
 "metadata": {
  "kernelspec": {
   "display_name": "Python 3",
   "language": "python",
   "name": "python3"
  },
  "language_info": {
   "codemirror_mode": {
    "name": "ipython",
    "version": 3
   },
   "file_extension": ".py",
   "mimetype": "text/x-python",
   "name": "python",
   "nbconvert_exporter": "python",
   "pygments_lexer": "ipython3",
   "version": "3.8.3"
  }
 },
 "nbformat": 4,
 "nbformat_minor": 4
}
